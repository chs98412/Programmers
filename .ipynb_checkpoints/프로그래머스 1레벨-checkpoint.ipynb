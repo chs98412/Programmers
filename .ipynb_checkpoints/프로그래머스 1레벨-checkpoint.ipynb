{
 "cells": [
  {
   "cell_type": "markdown",
   "metadata": {},
   "source": [
    "## 두 개 뽑아서 더하기\n",
    "### 레벨1\n",
    "\n",
    "\n",
    "정수 배열 numbers가 주어집니다. numbers에서 서로 다른 인덱스에 있는 두 개의 수를 뽑아 더해서 만들 수 있는 모든 수를 배열에 오름차순으로 담아 return 하도록 solution 함수를 완성해주세요.\n",
    "\n",
    "\n"
   ]
  },
  {
   "cell_type": "code",
   "execution_count": 17,
   "metadata": {
    "scrolled": true
   },
   "outputs": [
    {
     "name": "stdout",
     "output_type": "stream",
     "text": [
      "[2, 3, 4, 5, 6, 7]\n"
     ]
    }
   ],
   "source": [
    "def solution(numbers):\n",
    "    answer = []\n",
    "    for i in range(0,len(numbers)-1):\n",
    "        for j in range(i+1,len(numbers)):\n",
    "            answer.append(numbers[i]+numbers[j])\n",
    "    answer=list(set(answer))    \n",
    "    answer.sort()\n",
    "    return answer\n",
    "print(solution([2,1,3,4,1,1]))"
   ]
  },
  {
   "cell_type": "markdown",
   "metadata": {},
   "source": [
    "\n"
   ]
  },
  {
   "cell_type": "markdown",
   "metadata": {},
   "source": [
    "## 약수의 개수와 덧셈\n",
    "### 레벨1\n",
    "두 정수 left와 right가 매개변수로 주어집니다. left부터 right까지의 모든 수들 중에서, 약수의 개수가 짝수인 수는 더하고, 약수의 개수가 홀수인 수는 뺀 수를 return 하도록 solution 함수를 완성해주세요."
   ]
  },
  {
   "cell_type": "code",
   "execution_count": 1,
   "metadata": {},
   "outputs": [
    {
     "name": "stdout",
     "output_type": "stream",
     "text": [
      "52\n"
     ]
    }
   ],
   "source": [
    "def solution(left, right):\n",
    "    answer = 0\n",
    "    for i in range(left,right+1):\n",
    "        q=i\n",
    "        a=[]\n",
    "        fin=0\n",
    "        if i<4:\n",
    "            if i==4:\n",
    "                ans=3\n",
    "            elif i==1:\n",
    "                ans=1\n",
    "            else:\n",
    "                ans=2\n",
    "        else:\n",
    "            while fin==0:\n",
    "                for j in range(2,q):\n",
    "                    if q%j==0:\n",
    "                        a.append(j)\n",
    "                        q=q//j\n",
    "                        if q<3:\n",
    "                            fin=1\n",
    "                            a.append(q)\n",
    "                        break\n",
    "                    if j==q-1:\n",
    "                        a.append(q)\n",
    "                        fin=1\n",
    "            ans=1\n",
    "            for q in list(set(a)):     \n",
    "                ans*=a.count(q)+1\n",
    "        if ans%2==0:\n",
    "            answer+=i\n",
    "        else:\n",
    "            answer-=i\n",
    "    return answer\n",
    "print(solution(24,27))"
   ]
  },
  {
   "cell_type": "markdown",
   "metadata": {},
   "source": [
    "## 예산\n",
    "### 레벨1<br>\n",
    "S사에서는 각 부서에 필요한 물품을 지원해 주기 위해 부서별로 물품을 구매하는데 필요한 금액을 조사했습니다. 그러나, 전체 예산이 정해져 있기 때문에 모든 부서의 물품을 구매해 줄 수는 없습니다. 그래서 최대한 많은 부서의 물품을 구매해 줄 수 있도록 하려고 합니다.\n",
    "\n",
    "물품을 구매해 줄 때는 각 부서가 신청한 금액만큼을 모두 지원해 줘야 합니다. 예를 들어 1,000원을 신청한 부서에는 정확히 1,000원을 지원해야 하며, 1,000원보다 적은 금액을 지원해 줄 수는 없습니다.\n",
    "\n",
    "부서별로 신청한 금액이 들어있는 배열 d와 예산 budget이 매개변수로 주어질 때, 최대 몇 개의 부서에 물품을 지원할 수 있는지 return 하도록 solution 함수를 완성해주세요.\n",
    "\n",
    "제한사항\n",
    "d는 부서별로 신청한 금액이 들어있는 배열이며, 길이(전체 부서의 개수)는 1 이상 100 이하입니다.\n",
    "d의 각 원소는 부서별로 신청한 금액을 나타내며, 부서별 신청 금액은 1 이상 100,000 이하의 자연수입니다.\n",
    "budget은 예산을 나타내며, 1 이상 10,000,000 이하의 자연수입니다.<br>\n",
    "\n",
    "#### 입출력 예\n",
    "d\tbudget\tresult<br>\n",
    "[1,3,2,5,4]\t9\t3<br>\n",
    "[2,2,3,3]\t10\t4<br>\n",
    "입출력 예 설명<br>\n",
    "입출력 예 #1<br>\n",
    "각 부서에서 [1원, 3원, 2원, 5원, 4원]만큼의 금액을 신청했습니다. 만약에, 1원, 2원, 4원을 신청한 부서의 물품을 구매해주면 예산 9원에서 7원이 소비되어 2원이 남습니다. 항상 정확히 신청한 금액만큼 지원해 줘야 하므로 남은 2원으로 나머지 부서를 지원해 주지 않습니다. 위 방법 외에 3개 부서를 지원해 줄 방법들은 다음과 같습니다.<br><br>\n",
    "\n",
    "1원, 2원, 3원을 신청한 부서의 물품을 구매해주려면 6원이 필요합니다.\n",
    "1원, 2원, 5원을 신청한 부서의 물품을 구매해주려면 8원이 필요합니다.\n",
    "1원, 3원, 4원을 신청한 부서의 물품을 구매해주려면 8원이 필요합니다.\n",
    "1원, 3원, 5원을 신청한 부서의 물품을 구매해주려면 9원이 필요합니다.<br>\n",
    "3개 부서보다 더 많은 부서의 물품을 구매해 줄 수는 없으므로 최대 3개 부서의 물품을 구매해 줄 수 있습니다.<br>\n",
    "\n",
    "입출력 예 #2<br>\n",
    "모든 부서의 물품을 구매해주면 10원이 됩니다. 따라서 최대 4개 부서의 물품을 구매해 줄 수 있습니다."
   ]
  },
  {
   "cell_type": "code",
   "execution_count": 6,
   "metadata": {},
   "outputs": [
    {
     "name": "stdout",
     "output_type": "stream",
     "text": [
      "4\n"
     ]
    }
   ],
   "source": [
    "def solution(d, budget):\n",
    "    answer = 0\n",
    "\n",
    "    d.sort()\n",
    "\n",
    "    for i in range(len(d)):\n",
    "        budget -= d[i]\n",
    "        if budget == 0:\n",
    "            return i+1\n",
    "        elif budget < 0:\n",
    "            return i\n",
    "    return len(d)\n",
    "\n",
    "print(solution([2, 2, 3, 3], 10))"
   ]
  },
  {
   "cell_type": "markdown",
   "metadata": {},
   "source": [
    "## 소수 만들기\n",
    "### 레벨1\n",
    "주어진 숫자 중 3개의 수를 더했을 때 소수가 되는 경우의 개수를 구하려고 합니다. 숫자들이 들어있는 배열 nums가 매개변수로 주어질 때, nums에 있는 숫자들 중 서로 다른 3개를 골라 더했을 때 소수가 되는 경우의 개수를 return 하도록 solution 함수를 완성해주세요."
   ]
  },
  {
   "cell_type": "code",
   "execution_count": 7,
   "metadata": {},
   "outputs": [],
   "source": [
    "def solution(nums):\n",
    "    answer = 0\n",
    "\n",
    "\n",
    "    a = [0, 0, 0]\n",
    "    for i in range(len(nums)):\n",
    "        a[0] = nums[i]\n",
    "        for j in range(i+1, len(nums)):\n",
    "            a[1] = nums[j]\n",
    "            for k in range(j+1, len(nums)):\n",
    "                a[2] = nums[k]\n",
    "                temp = True\n",
    "                for l in range(2, (sum(a)//2)):\n",
    "                    if sum(a) % l == 0:\n",
    "                        temp = False\n",
    "                if temp:\n",
    "                    answer += 1\n",
    "\n",
    "    return answer"
   ]
  },
  {
   "cell_type": "markdown",
   "metadata": {},
   "source": [
    "## 음양 더하기\n",
    "### 레벨 1\n",
    "어떤 정수들이 있습니다. 이 정수들의 절댓값을 차례대로 담은 정수 배열 absolutes와 이 정수들의 부호를 차례대로 담은 불리언 배열 signs가 매개변수로 주어집니다. 실제 정수들의 합을 구하여 return 하도록 solution 함수를 완성해주세요.\n",
    "\n"
   ]
  },
  {
   "cell_type": "code",
   "execution_count": 8,
   "metadata": {},
   "outputs": [],
   "source": [
    "def solution(absolutes, signs):    \n",
    "    return sum([absolutes[i] if signs[i] else -1*absolutes[i] for i in range(len(signs))])\n"
   ]
  },
  {
   "cell_type": "markdown",
   "metadata": {},
   "source": [
    "## 다트게임\n",
    "### 1단계\n",
    "카카오톡 게임별의 하반기 신규 서비스로 다트 게임을 출시하기로 했다. 다트 게임은 다트판에 다트를 세 차례 던져 그 점수의 합계로 실력을 겨루는 게임으로, 모두가 간단히 즐길 수 있다.\n",
    "갓 입사한 무지는 코딩 실력을 인정받아 게임의 핵심 부분인 점수 계산 로직을 맡게 되었다. 다트 게임의 점수 계산 로직은 아래와 같다."
   ]
  },
  {
   "cell_type": "code",
   "execution_count": 1,
   "metadata": {},
   "outputs": [],
   "source": [
    "def solution(dartResult):\n",
    "    answer = 0\n",
    "    index = -1\n",
    "    temp = ['', '', '']\n",
    "    cnt = 0\n",
    "    for i in range(len(dartResult)):\n",
    "        if dartResult[i].isalpha():\n",
    "            index += 1\n",
    "            temp[index] += dartResult[cnt:i]\n",
    "\n",
    "            if dartResult[i] == 'D':\n",
    "                temp[index] += '**2'\n",
    "            elif dartResult[i] == 'T':\n",
    "                temp[index] += '**3'\n",
    "\n",
    "            cnt = i+1\n",
    "        elif dartResult[i].isalpha() == False and dartResult[i].isdigit() == False:\n",
    "            if dartResult[i] == '*':\n",
    "                temp[index] += '*2'\n",
    "                if index != 0:\n",
    "                    temp[index-1] += '*2'\n",
    "            if dartResult[i] == '#':\n",
    "                temp[index] += '*(-1)'\n",
    "\n",
    "            cnt += 1\n",
    "    return sum([eval(i) for i in temp])"
   ]
  },
  {
   "cell_type": "code",
   "execution_count": null,
   "metadata": {},
   "outputs": [],
   "source": []
  }
 ],
 "metadata": {
  "kernelspec": {
   "display_name": "Python 3",
   "language": "python",
   "name": "python3"
  },
  "language_info": {
   "codemirror_mode": {
    "name": "ipython",
    "version": 3
   },
   "file_extension": ".py",
   "mimetype": "text/x-python",
   "name": "python",
   "nbconvert_exporter": "python",
   "pygments_lexer": "ipython3",
   "version": "3.8.5"
  }
 },
 "nbformat": 4,
 "nbformat_minor": 4
}
