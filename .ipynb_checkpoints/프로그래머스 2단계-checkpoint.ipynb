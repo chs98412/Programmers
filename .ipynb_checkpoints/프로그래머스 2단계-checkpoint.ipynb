{
 "cells": [
  {
   "cell_type": "markdown",
   "metadata": {},
   "source": [
    "## 방문 길이\n",
    "게임 캐릭터를 4가지 명령어를 통해 움직이려 합니다. 명령어는 다음과 같습니다.\n",
    "\n",
    "U: 위쪽으로 한 칸 가기\n",
    "\n",
    "D: 아래쪽으로 한 칸 가기\n",
    "\n",
    "R: 오른쪽으로 한 칸 가기\n",
    "\n",
    "L: 왼쪽으로 한 칸 가기\n",
    "\n",
    "캐릭터는 좌표평면의 (0, 0) 위치에서 시작합니다. 좌표평면의 경계는 왼쪽 위(-5, 5), 왼쪽 아래(-5, -5), 오른쪽 위(5, 5), 오른쪽 아래(5, -5)로 이루어져 있습니다."
   ]
  },
  {
   "cell_type": "code",
   "execution_count": 1,
   "metadata": {},
   "outputs": [],
   "source": [
    "def solution(dirs):\n",
    "    answer = 0\n",
    "    point = [0, 0]\n",
    "    ckList = []\n",
    "    for i in dirs:\n",
    "        temp = []\n",
    "        temp.append(point[0])\n",
    "        temp.append(point[1])\n",
    "        if i == 'U' and point[1] < 5:\n",
    "            point[1] += 1\n",
    "            temp.append(point[0])\n",
    "            temp.append(point[1])\n",
    "\n",
    "        elif i == 'D' and point[1] > -5:\n",
    "            point[1] -= 1\n",
    "            temp.append(point[0])\n",
    "            temp.append(point[1])\n",
    "        elif i == 'R' and point[0] < 5:\n",
    "            point[0] += 1\n",
    "            temp.append(point[0])\n",
    "            temp.append(point[1])\n",
    "        elif i == 'L' and point[0] > -5:\n",
    "            point[0] -= 1\n",
    "            temp.append(point[0])\n",
    "            temp.append(point[1])\n",
    "        else:\n",
    "            continue\n",
    "        if temp in ckList:\n",
    "            continue\n",
    "\n",
    "        else:\n",
    "            answer += 1\n",
    "            ckList.append(temp)\n",
    "\n",
    "        plus = []\n",
    "        plus.append(temp[2])\n",
    "        plus.append(temp[3])\n",
    "        plus.append(temp[0])\n",
    "        plus.append(temp[1])\n",
    "        ckList.append(plus)\n",
    "\n",
    "    return answer\n"
   ]
  },
  {
   "cell_type": "markdown",
   "metadata": {},
   "source": [
    "## 스킬트리\n",
    "선행 스킬이란 어떤 스킬을 배우기 전에 먼저 배워야 하는 스킬을 뜻합니다.\n",
    "\n",
    "예를 들어 선행 스킬 순서가 스파크 → 라이트닝 볼트 → 썬더일때, 썬더를 배우려면 먼저 라이트닝 볼트를 배워야 하고, 라이트닝 볼트를 배우려면 먼저 스파크를 배워야 합니다.\n",
    "\n",
    "위 순서에 없는 다른 스킬(힐링 등)은 순서에 상관없이 배울 수 있습니다. 따라서 스파크 → 힐링 → 라이트닝 볼트 → 썬더와 같은 스킬트리는 가능하지만, 썬더 → 스파크나 라이트닝 볼트 → 스파크 → 힐링 → 썬더와 같은 스킬트리는 불가능합니다.\n",
    "\n",
    "선행 스킬 순서 skill과 유저들이 만든 스킬트리1를 담은 배열 skill_trees가 매개변수로 주어질 때, 가능한 스킬트리 개수를 return 하는 solution 함수를 작성해주세요."
   ]
  },
  {
   "cell_type": "code",
   "execution_count": 2,
   "metadata": {},
   "outputs": [],
   "source": [
    "def solution(skill, skill_trees):\n",
    "    answer = 0\n",
    "    for i in skill_trees:\n",
    "        a = skill\n",
    "        temp = True\n",
    "\n",
    "        for j in i:\n",
    "            if j in a and j != a[0]:\n",
    "                temp = False\n",
    "                break\n",
    "            elif j in a and j == a[0]:\n",
    "                if len(a) == 1:\n",
    "                    break\n",
    "                else:\n",
    "                    a = a[1:]\n",
    "        if temp:\n",
    "            answer += 1\n",
    "\n",
    "    return answer"
   ]
  },
  {
   "cell_type": "markdown",
   "metadata": {},
   "source": [
    "## 소수 찾기\n",
    "한자리 숫자가 적힌 종이 조각이 흩어져있습니다. 흩어진 종이 조각을 붙여 소수를 몇 개 만들 수 있는지 알아내려 합니다.\n",
    "\n",
    "각 종이 조각에 적힌 숫자가 적힌 문자열 numbers가 주어졌을 때, 종이 조각으로 만들 수 있는 소수가 몇 개인지 return 하도록 solution 함수를 완성해주세요"
   ]
  },
  {
   "cell_type": "code",
   "execution_count": 4,
   "metadata": {},
   "outputs": [],
   "source": [
    "from itertools import permutations\n",
    "import math\n",
    "\n",
    "\n",
    "def solution(numbers):\n",
    "\n",
    "    answer = 0\n",
    "    lists = []\n",
    "    numbers = list(numbers)\n",
    "    for i in range(1, len(numbers)+1):\n",
    "        temp = list(permutations(numbers, i))\n",
    "        for i in temp:\n",
    "            lists.append(int(''.join(i)))\n",
    "    lists = list(set(lists))\n",
    "    for i in lists:\n",
    "        temp = True\n",
    "        if i < 2:\n",
    "            continue\n",
    "        else:\n",
    "            for l in range(2, int(math.sqrt(i))+1):\n",
    "                if i % l == 0:\n",
    "                    temp = False\n",
    "        if temp:\n",
    "            answer += 1\n",
    "\n",
    "    return answer"
   ]
  },
  {
   "cell_type": "markdown",
   "metadata": {},
   "source": [
    "## 이진 변환 반복하기\n",
    "0과 1로 이루어진 어떤 문자열 x에 대한 이진 변환을 다음과 같이 정의합니다.\n",
    "\n",
    "x의 모든 0을 제거합니다.\n",
    "x의 길이를 c라고 하면, x를 \"c를 2진법으로 표현한 문자열\"로 바꿉니다.\n",
    "예를 들어, x = \"0111010\"이라면, x에 이진 변환을 가하면 x = \"0111010\" -> \"1111\" -> \"100\" 이 됩니다.\n",
    "\n",
    "0과 1로 이루어진 문자열 s가 매개변수로 주어집니다. s가 \"1\"이 될 때까지 계속해서 s에 이진 변환을 가했을 때, 이진 변환의 횟수와 변환 과정에서 제거된 모든 0의 개수를 각각 배열에 담아 return 하도록 solution 함수를 완성해주세요."
   ]
  },
  {
   "cell_type": "code",
   "execution_count": 1,
   "metadata": {},
   "outputs": [],
   "source": [
    "def solution(s):\n",
    "    answer = [0, 0]\n",
    "    while s != '1':\n",
    "        answer[0] += 1\n",
    "        answer[1] += s.count('0')\n",
    "        s = bin(len((s.replace('0', ''))))[2:]\n",
    "\n",
    "    return answer"
   ]
  },
  {
   "cell_type": "markdown",
   "metadata": {},
   "source": [
    "## 영어 끝말잇기\n",
    "1부터 n까지 번호가 붙어있는 n명의 사람이 영어 끝말잇기를 하고 있습니다. 영어 끝말잇기는 다음과 같은 규칙으로 진행됩니다.\n",
    "\n",
    "1번부터 번호 순서대로 한 사람씩 차례대로 단어를 말합니다.\n",
    "마지막 사람이 단어를 말한 다음에는 다시 1번부터 시작합니다.\n",
    "앞사람이 말한 단어의 마지막 문자로 시작하는 단어를 말해야 합니다.\n",
    "이전에 등장했던 단어는 사용할 수 없습니다.\n",
    "한 글자인 단어는 인정되지 않습니다.\n",
    "다음은 3명이 끝말잇기를 하는 상황을 나타냅니다.\n",
    "\n",
    "tank → kick → know → wheel → land → dream → mother → robot → tank\n",
    "\n",
    "위 끝말잇기는 다음과 같이 진행됩니다.\n",
    "\n",
    "1번 사람이 자신의 첫 번째 차례에 tank를 말합니다.\n",
    "2번 사람이 자신의 첫 번째 차례에 kick을 말합니다.\n",
    "3번 사람이 자신의 첫 번째 차례에 know를 말합니다.\n",
    "1번 사람이 자신의 두 번째 차례에 wheel을 말합니다.\n",
    "(계속 진행)\n",
    "끝말잇기를 계속 진행해 나가다 보면, 3번 사람이 자신의 세 번째 차례에 말한 tank 라는 단어는 이전에 등장했던 단어이므로 탈락하게 됩니다.\n",
    "\n",
    "사람의 수 n과 사람들이 순서대로 말한 단어 words 가 매개변수로 주어질 때, 가장 먼저 탈락하는 사람의 번호와 그 사람이 자신의 몇 번째 차례에 탈락하는지를 구해서 return 하도록 solution 함수를 완성해주세요."
   ]
  },
  {
   "cell_type": "code",
   "execution_count": 3,
   "metadata": {},
   "outputs": [],
   "source": [
    "def solution(n, words):\n",
    "    answer = []\n",
    "    store = []\n",
    "    cnt = 0\n",
    "    temp = words[0][0]\n",
    "    for i in words:\n",
    "        if i[0] != temp or i in store:\n",
    "            return [(cnt % n)+1, (cnt//n) + 1]\n",
    "        cnt += 1\n",
    "        temp = i[-1]\n",
    "        store.append(i)\n",
    "\n",
    "    return [0, 0]"
   ]
  },
  {
   "cell_type": "markdown",
   "metadata": {},
   "source": [
    "## 2개 이하로 다른 비트\n",
    "양의 정수 x에 대한 함수 f(x)를 다음과 같이 정의합니다.\n",
    "\n",
    "x보다 크고 x와 비트가 1~2개 다른 수들 중에서 제일 작은 수\n",
    "예를 들어,\n",
    "\n",
    "f(2) = 3 입니다. 다음 표와 같이 2보다 큰 수들 중에서 비트가 다른 지점이 2개 이하이면서 제일 작은 수가 3이기 때문입니다."
   ]
  },
  {
   "cell_type": "code",
   "execution_count": 1,
   "metadata": {},
   "outputs": [],
   "source": [
    "def solution(numbers):\n",
    "    answer = []\n",
    "    if len(numbers) < 100001 and len(bin(max(numbers))) < 45:\n",
    "        for i in numbers:\n",
    "            temp = bin(i)[2:]\n",
    "            ck = True\n",
    "            tar = i\n",
    "\n",
    "            while ck:\n",
    "                tar += 1\n",
    "                if bin(i ^ tar).count('1') < 3:\n",
    "                    answer.append(tar)\n",
    "                    ck = False\n",
    "    else:\n",
    "        for i in numbers:\n",
    "            temp = bin(i)[2:]\n",
    "\n",
    "            if i % 2 == 0 or (temp[-2] == '0'):\n",
    "                answer.append(i+1)\n",
    "            elif temp.count('0') == 0:\n",
    "                answer.append(i+((len(temp)-1)**2))\n",
    "            else:\n",
    "                for j in reversed(temp):\n",
    "                    if j == '0':\n",
    "                        answer.append(i+(2**(len(temp)-1-temp.index(j)-1)))\n",
    "                        break\n",
    "\n",
    "    return answer"
   ]
  },
  {
   "cell_type": "markdown",
   "metadata": {},
   "source": [
    "## H-Index\n",
    "문제 설명\n",
    "H-Index는 과학자의 생산성과 영향력을 나타내는 지표입니다. 어느 과학자의 H-Index를 나타내는 값인 h를 구하려고 합니다. 위키백과1에 따르면, H-Index는 다음과 같이 구합니다.\n",
    "\n",
    "어떤 과학자가 발표한 논문 n편 중, h번 이상 인용된 논문이 h편 이상이고 나머지 논문이 h번 이하 인용되었다면 h의 최댓값이 이 과학자의 H-Index입니다.\n",
    "\n",
    "어떤 과학자가 발표한 논문의 인용 횟수를 담은 배열 citations가 매개변수로 주어질 때, 이 과학자의 H-Index를 return 하도록 solution 함수를 작성해주세요."
   ]
  },
  {
   "cell_type": "code",
   "execution_count": 2,
   "metadata": {},
   "outputs": [],
   "source": [
    "def solution(citations):\n",
    "    citations.sort()\n",
    "    for i in reversed(range(max(citations)+1)):\n",
    "        if i in citations:\n",
    "            if len(citations[citations.index(i):]) >= i:\n",
    "                return i\n",
    "        else:\n",
    "            if len(citations)-i >= 0 and citations[len(citations)-i] >= i:\n",
    "                print(citations, citations[len(citations)-i], i)\n",
    "                return i"
   ]
  },
  {
   "cell_type": "code",
   "execution_count": null,
   "metadata": {},
   "outputs": [],
   "source": []
  }
 ],
 "metadata": {
  "kernelspec": {
   "display_name": "Python 3",
   "language": "python",
   "name": "python3"
  },
  "language_info": {
   "codemirror_mode": {
    "name": "ipython",
    "version": 3
   },
   "file_extension": ".py",
   "mimetype": "text/x-python",
   "name": "python",
   "nbconvert_exporter": "python",
   "pygments_lexer": "ipython3",
   "version": "3.8.5"
  }
 },
 "nbformat": 4,
 "nbformat_minor": 4
}
