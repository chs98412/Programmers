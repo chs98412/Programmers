{
 "cells": [
  {
   "cell_type": "markdown",
   "metadata": {},
   "source": [
    "## 방문 길이\n",
    "게임 캐릭터를 4가지 명령어를 통해 움직이려 합니다. 명령어는 다음과 같습니다.\n",
    "\n",
    "U: 위쪽으로 한 칸 가기\n",
    "\n",
    "D: 아래쪽으로 한 칸 가기\n",
    "\n",
    "R: 오른쪽으로 한 칸 가기\n",
    "\n",
    "L: 왼쪽으로 한 칸 가기\n",
    "\n",
    "캐릭터는 좌표평면의 (0, 0) 위치에서 시작합니다. 좌표평면의 경계는 왼쪽 위(-5, 5), 왼쪽 아래(-5, -5), 오른쪽 위(5, 5), 오른쪽 아래(5, -5)로 이루어져 있습니다."
   ]
  },
  {
   "cell_type": "code",
   "execution_count": 1,
   "metadata": {},
   "outputs": [],
   "source": [
    "def solution(dirs):\n",
    "    answer = 0\n",
    "    point = [0, 0]\n",
    "    ckList = []\n",
    "    for i in dirs:\n",
    "        temp = []\n",
    "        temp.append(point[0])\n",
    "        temp.append(point[1])\n",
    "        if i == 'U' and point[1] < 5:\n",
    "            point[1] += 1\n",
    "            temp.append(point[0])\n",
    "            temp.append(point[1])\n",
    "\n",
    "        elif i == 'D' and point[1] > -5:\n",
    "            point[1] -= 1\n",
    "            temp.append(point[0])\n",
    "            temp.append(point[1])\n",
    "        elif i == 'R' and point[0] < 5:\n",
    "            point[0] += 1\n",
    "            temp.append(point[0])\n",
    "            temp.append(point[1])\n",
    "        elif i == 'L' and point[0] > -5:\n",
    "            point[0] -= 1\n",
    "            temp.append(point[0])\n",
    "            temp.append(point[1])\n",
    "        else:\n",
    "            continue\n",
    "        if temp in ckList:\n",
    "            continue\n",
    "\n",
    "        else:\n",
    "            answer += 1\n",
    "            ckList.append(temp)\n",
    "\n",
    "        plus = []\n",
    "        plus.append(temp[2])\n",
    "        plus.append(temp[3])\n",
    "        plus.append(temp[0])\n",
    "        plus.append(temp[1])\n",
    "        ckList.append(plus)\n",
    "\n",
    "    return answer\n"
   ]
  },
  {
   "cell_type": "markdown",
   "metadata": {},
   "source": [
    "## 스킬트리\n",
    "선행 스킬이란 어떤 스킬을 배우기 전에 먼저 배워야 하는 스킬을 뜻합니다.\n",
    "\n",
    "예를 들어 선행 스킬 순서가 스파크 → 라이트닝 볼트 → 썬더일때, 썬더를 배우려면 먼저 라이트닝 볼트를 배워야 하고, 라이트닝 볼트를 배우려면 먼저 스파크를 배워야 합니다.\n",
    "\n",
    "위 순서에 없는 다른 스킬(힐링 등)은 순서에 상관없이 배울 수 있습니다. 따라서 스파크 → 힐링 → 라이트닝 볼트 → 썬더와 같은 스킬트리는 가능하지만, 썬더 → 스파크나 라이트닝 볼트 → 스파크 → 힐링 → 썬더와 같은 스킬트리는 불가능합니다.\n",
    "\n",
    "선행 스킬 순서 skill과 유저들이 만든 스킬트리1를 담은 배열 skill_trees가 매개변수로 주어질 때, 가능한 스킬트리 개수를 return 하는 solution 함수를 작성해주세요."
   ]
  },
  {
   "cell_type": "code",
   "execution_count": 2,
   "metadata": {},
   "outputs": [],
   "source": [
    "def solution(skill, skill_trees):\n",
    "    answer = 0\n",
    "    for i in skill_trees:\n",
    "        a = skill\n",
    "        temp = True\n",
    "\n",
    "        for j in i:\n",
    "            if j in a and j != a[0]:\n",
    "                temp = False\n",
    "                break\n",
    "            elif j in a and j == a[0]:\n",
    "                if len(a) == 1:\n",
    "                    break\n",
    "                else:\n",
    "                    a = a[1:]\n",
    "        if temp:\n",
    "            answer += 1\n",
    "\n",
    "    return answer"
   ]
  },
  {
   "cell_type": "markdown",
   "metadata": {},
   "source": [
    "## 소수 찾기\n",
    "한자리 숫자가 적힌 종이 조각이 흩어져있습니다. 흩어진 종이 조각을 붙여 소수를 몇 개 만들 수 있는지 알아내려 합니다.\n",
    "\n",
    "각 종이 조각에 적힌 숫자가 적힌 문자열 numbers가 주어졌을 때, 종이 조각으로 만들 수 있는 소수가 몇 개인지 return 하도록 solution 함수를 완성해주세요"
   ]
  },
  {
   "cell_type": "code",
   "execution_count": 4,
   "metadata": {},
   "outputs": [],
   "source": [
    "from itertools import permutations\n",
    "import math\n",
    "\n",
    "\n",
    "def solution(numbers):\n",
    "\n",
    "    answer = 0\n",
    "    lists = []\n",
    "    numbers = list(numbers)\n",
    "    for i in range(1, len(numbers)+1):\n",
    "        temp = list(permutations(numbers, i))\n",
    "        for i in temp:\n",
    "            lists.append(int(''.join(i)))\n",
    "    lists = list(set(lists))\n",
    "    for i in lists:\n",
    "        temp = True\n",
    "        if i < 2:\n",
    "            continue\n",
    "        else:\n",
    "            for l in range(2, int(math.sqrt(i))+1):\n",
    "                if i % l == 0:\n",
    "                    temp = False\n",
    "        if temp:\n",
    "            answer += 1\n",
    "\n",
    "    return answer"
   ]
  },
  {
   "cell_type": "markdown",
   "metadata": {},
   "source": [
    "## 이진 변환 반복하기\n",
    "0과 1로 이루어진 어떤 문자열 x에 대한 이진 변환을 다음과 같이 정의합니다.\n",
    "\n",
    "x의 모든 0을 제거합니다.\n",
    "x의 길이를 c라고 하면, x를 \"c를 2진법으로 표현한 문자열\"로 바꿉니다.\n",
    "예를 들어, x = \"0111010\"이라면, x에 이진 변환을 가하면 x = \"0111010\" -> \"1111\" -> \"100\" 이 됩니다.\n",
    "\n",
    "0과 1로 이루어진 문자열 s가 매개변수로 주어집니다. s가 \"1\"이 될 때까지 계속해서 s에 이진 변환을 가했을 때, 이진 변환의 횟수와 변환 과정에서 제거된 모든 0의 개수를 각각 배열에 담아 return 하도록 solution 함수를 완성해주세요."
   ]
  },
  {
   "cell_type": "code",
   "execution_count": 1,
   "metadata": {},
   "outputs": [],
   "source": [
    "def solution(s):\n",
    "    answer = [0, 0]\n",
    "    while s != '1':\n",
    "        answer[0] += 1\n",
    "        answer[1] += s.count('0')\n",
    "        s = bin(len((s.replace('0', ''))))[2:]\n",
    "\n",
    "    return answer"
   ]
  },
  {
   "cell_type": "code",
   "execution_count": null,
   "metadata": {},
   "outputs": [],
   "source": []
  }
 ],
 "metadata": {
  "kernelspec": {
   "display_name": "Python 3",
   "language": "python",
   "name": "python3"
  },
  "language_info": {
   "codemirror_mode": {
    "name": "ipython",
    "version": 3
   },
   "file_extension": ".py",
   "mimetype": "text/x-python",
   "name": "python",
   "nbconvert_exporter": "python",
   "pygments_lexer": "ipython3",
   "version": "3.8.5"
  }
 },
 "nbformat": 4,
 "nbformat_minor": 4
}
