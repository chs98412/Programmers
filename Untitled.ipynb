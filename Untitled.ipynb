{
 "cells": [
  {
   "cell_type": "markdown",
   "metadata": {},
   "source": [
    "## 방문 길이\n",
    "게임 캐릭터를 4가지 명령어를 통해 움직이려 합니다. 명령어는 다음과 같습니다.\n",
    "\n",
    "U: 위쪽으로 한 칸 가기\n",
    "\n",
    "D: 아래쪽으로 한 칸 가기\n",
    "\n",
    "R: 오른쪽으로 한 칸 가기\n",
    "\n",
    "L: 왼쪽으로 한 칸 가기\n",
    "\n",
    "캐릭터는 좌표평면의 (0, 0) 위치에서 시작합니다. 좌표평면의 경계는 왼쪽 위(-5, 5), 왼쪽 아래(-5, -5), 오른쪽 위(5, 5), 오른쪽 아래(5, -5)로 이루어져 있습니다."
   ]
  },
  {
   "cell_type": "code",
   "execution_count": 1,
   "metadata": {},
   "outputs": [],
   "source": [
    "def solution(dirs):\n",
    "    answer = 0\n",
    "    point = [0, 0]\n",
    "    ckList = []\n",
    "    for i in dirs:\n",
    "        temp = []\n",
    "        temp.append(point[0])\n",
    "        temp.append(point[1])\n",
    "        if i == 'U' and point[1] < 5:\n",
    "            point[1] += 1\n",
    "            temp.append(point[0])\n",
    "            temp.append(point[1])\n",
    "\n",
    "        elif i == 'D' and point[1] > -5:\n",
    "            point[1] -= 1\n",
    "            temp.append(point[0])\n",
    "            temp.append(point[1])\n",
    "        elif i == 'R' and point[0] < 5:\n",
    "            point[0] += 1\n",
    "            temp.append(point[0])\n",
    "            temp.append(point[1])\n",
    "        elif i == 'L' and point[0] > -5:\n",
    "            point[0] -= 1\n",
    "            temp.append(point[0])\n",
    "            temp.append(point[1])\n",
    "        else:\n",
    "            continue\n",
    "        if temp in ckList:\n",
    "            continue\n",
    "\n",
    "        else:\n",
    "            answer += 1\n",
    "            ckList.append(temp)\n",
    "\n",
    "        plus = []\n",
    "        plus.append(temp[2])\n",
    "        plus.append(temp[3])\n",
    "        plus.append(temp[0])\n",
    "        plus.append(temp[1])\n",
    "        ckList.append(plus)\n",
    "\n",
    "    return answer\n"
   ]
  },
  {
   "cell_type": "markdown",
   "metadata": {},
   "source": [
    "## 스킬트리\n",
    "선행 스킬이란 어떤 스킬을 배우기 전에 먼저 배워야 하는 스킬을 뜻합니다.\n",
    "\n",
    "예를 들어 선행 스킬 순서가 스파크 → 라이트닝 볼트 → 썬더일때, 썬더를 배우려면 먼저 라이트닝 볼트를 배워야 하고, 라이트닝 볼트를 배우려면 먼저 스파크를 배워야 합니다.\n",
    "\n",
    "위 순서에 없는 다른 스킬(힐링 등)은 순서에 상관없이 배울 수 있습니다. 따라서 스파크 → 힐링 → 라이트닝 볼트 → 썬더와 같은 스킬트리는 가능하지만, 썬더 → 스파크나 라이트닝 볼트 → 스파크 → 힐링 → 썬더와 같은 스킬트리는 불가능합니다.\n",
    "\n",
    "선행 스킬 순서 skill과 유저들이 만든 스킬트리1를 담은 배열 skill_trees가 매개변수로 주어질 때, 가능한 스킬트리 개수를 return 하는 solution 함수를 작성해주세요."
   ]
  },
  {
   "cell_type": "code",
   "execution_count": 2,
   "metadata": {},
   "outputs": [],
   "source": [
    "def solution(skill, skill_trees):\n",
    "    answer = 0\n",
    "    for i in skill_trees:\n",
    "        a = skill\n",
    "        temp = True\n",
    "\n",
    "        for j in i:\n",
    "            if j in a and j != a[0]:\n",
    "                temp = False\n",
    "                break\n",
    "            elif j in a and j == a[0]:\n",
    "                if len(a) == 1:\n",
    "                    break\n",
    "                else:\n",
    "                    a = a[1:]\n",
    "        if temp:\n",
    "            answer += 1\n",
    "\n",
    "    return answer"
   ]
  },
  {
   "cell_type": "code",
   "execution_count": null,
   "metadata": {},
   "outputs": [],
   "source": []
  }
 ],
 "metadata": {
  "kernelspec": {
   "display_name": "Python 3",
   "language": "python",
   "name": "python3"
  },
  "language_info": {
   "codemirror_mode": {
    "name": "ipython",
    "version": 3
   },
   "file_extension": ".py",
   "mimetype": "text/x-python",
   "name": "python",
   "nbconvert_exporter": "python",
   "pygments_lexer": "ipython3",
   "version": "3.8.5"
  }
 },
 "nbformat": 4,
 "nbformat_minor": 4
}
